
#%%

import azureml.core

print("This notebook was created using version 1.0.45 of the Azure ML SDK")
print("You are currently using version", azureml.core.VERSION, "of the Azure ML SDK")